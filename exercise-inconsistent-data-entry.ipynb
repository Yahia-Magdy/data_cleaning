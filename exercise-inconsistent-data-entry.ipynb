{
 "cells": [
  {
   "cell_type": "markdown",
   "id": "fbd55dbd",
   "metadata": {
    "papermill": {
     "duration": 0.008914,
     "end_time": "2022-07-02T02:15:16.983504",
     "exception": false,
     "start_time": "2022-07-02T02:15:16.974590",
     "status": "completed"
    },
    "tags": []
   },
   "source": [
    "**This notebook is an exercise in the [Data Cleaning](https://www.kaggle.com/learn/data-cleaning) course.  You can reference the tutorial at [this link](https://www.kaggle.com/alexisbcook/inconsistent-data-entry).**\n",
    "\n",
    "---\n"
   ]
  },
  {
   "cell_type": "markdown",
   "id": "886ad36a",
   "metadata": {
    "papermill": {
     "duration": 0.005484,
     "end_time": "2022-07-02T02:15:16.995054",
     "exception": false,
     "start_time": "2022-07-02T02:15:16.989570",
     "status": "completed"
    },
    "tags": []
   },
   "source": [
    "In this exercise, you'll apply what you learned in the **Inconsistent data entry** tutorial.\n",
    "\n",
    "# Setup\n",
    "\n",
    "The questions below will give you feedback on your work. Run the following cell to set up the feedback system."
   ]
  },
  {
   "cell_type": "code",
   "execution_count": 1,
   "id": "13176772",
   "metadata": {
    "execution": {
     "iopub.execute_input": "2022-07-02T02:15:17.009037Z",
     "iopub.status.busy": "2022-07-02T02:15:17.008176Z",
     "iopub.status.idle": "2022-07-02T02:15:17.123970Z",
     "shell.execute_reply": "2022-07-02T02:15:17.122772Z"
    },
    "papermill": {
     "duration": 0.1254,
     "end_time": "2022-07-02T02:15:17.126415",
     "exception": false,
     "start_time": "2022-07-02T02:15:17.001015",
     "status": "completed"
    },
    "tags": []
   },
   "outputs": [
    {
     "name": "stdout",
     "output_type": "stream",
     "text": [
      "Setup Complete\n"
     ]
    }
   ],
   "source": [
    "from learntools.core import binder\n",
    "binder.bind(globals())\n",
    "from learntools.data_cleaning.ex5 import *\n",
    "print(\"Setup Complete\")"
   ]
  },
  {
   "cell_type": "markdown",
   "id": "cc949381",
   "metadata": {
    "papermill": {
     "duration": 0.00557,
     "end_time": "2022-07-02T02:15:17.137877",
     "exception": false,
     "start_time": "2022-07-02T02:15:17.132307",
     "status": "completed"
    },
    "tags": []
   },
   "source": [
    "# Get our environment set up\n",
    "\n",
    "The first thing we'll need to do is load in the libraries and dataset we'll be using.  We use the same dataset from the tutorial."
   ]
  },
  {
   "cell_type": "code",
   "execution_count": 2,
   "id": "9c0bf9f6",
   "metadata": {
    "execution": {
     "iopub.execute_input": "2022-07-02T02:15:17.151012Z",
     "iopub.status.busy": "2022-07-02T02:15:17.150608Z",
     "iopub.status.idle": "2022-07-02T02:15:17.168060Z",
     "shell.execute_reply": "2022-07-02T02:15:17.167010Z"
    },
    "papermill": {
     "duration": 0.026923,
     "end_time": "2022-07-02T02:15:17.170396",
     "exception": false,
     "start_time": "2022-07-02T02:15:17.143473",
     "status": "completed"
    },
    "tags": []
   },
   "outputs": [],
   "source": [
    "# modules we'll use\n",
    "import pandas as pd\n",
    "import numpy as np\n",
    "\n",
    "# helpful modules\n",
    "import fuzzywuzzy\n",
    "from fuzzywuzzy import process\n",
    "import chardet\n",
    "\n",
    "# read in all our data\n",
    "professors = pd.read_csv(\"../input/pakistan-intellectual-capital/pakistan_intellectual_capital.csv\")\n",
    "\n",
    "# set seed for reproducibility\n",
    "np.random.seed(0)"
   ]
  },
  {
   "cell_type": "markdown",
   "id": "e8cd3dc0",
   "metadata": {
    "papermill": {
     "duration": 0.005549,
     "end_time": "2022-07-02T02:15:17.181641",
     "exception": false,
     "start_time": "2022-07-02T02:15:17.176092",
     "status": "completed"
    },
    "tags": []
   },
   "source": [
    "Next, we'll redo all of the work that we did in the tutorial."
   ]
  },
  {
   "cell_type": "code",
   "execution_count": 3,
   "id": "baf3ba0f",
   "metadata": {
    "execution": {
     "iopub.execute_input": "2022-07-02T02:15:17.194989Z",
     "iopub.status.busy": "2022-07-02T02:15:17.194497Z",
     "iopub.status.idle": "2022-07-02T02:15:17.210668Z",
     "shell.execute_reply": "2022-07-02T02:15:17.209533Z"
    },
    "papermill": {
     "duration": 0.02578,
     "end_time": "2022-07-02T02:15:17.213018",
     "exception": false,
     "start_time": "2022-07-02T02:15:17.187238",
     "status": "completed"
    },
    "tags": []
   },
   "outputs": [
    {
     "name": "stdout",
     "output_type": "stream",
     "text": [
      "All done!\n"
     ]
    }
   ],
   "source": [
    "# convert to lower case\n",
    "professors['Country'] = professors['Country'].str.lower()\n",
    "# remove trailing white spaces\n",
    "professors['Country'] = professors['Country'].str.strip()\n",
    "\n",
    "# get the top 10 closest matches to \"south korea\"\n",
    "countries = professors['Country'].unique()\n",
    "matches = fuzzywuzzy.process.extract(\"south korea\", countries, limit=10, scorer=fuzzywuzzy.fuzz.token_sort_ratio)\n",
    "\n",
    "def replace_matches_in_column(df, column, string_to_match, min_ratio = 47):\n",
    "    # get a list of unique strings\n",
    "    strings = df[column].unique()\n",
    "    \n",
    "    # get the top 10 closest matches to our input string\n",
    "    matches = fuzzywuzzy.process.extract(string_to_match, strings, \n",
    "                                         limit=10, scorer=fuzzywuzzy.fuzz.token_sort_ratio)\n",
    "\n",
    "    # only get matches with a ratio > 90\n",
    "    close_matches = [matches[0] for matches in matches if matches[1] >= min_ratio]\n",
    "\n",
    "    # get the rows of all the close matches in our dataframe\n",
    "    rows_with_matches = df[column].isin(close_matches)\n",
    "\n",
    "    # replace all rows with close matches with the input matches \n",
    "    df.loc[rows_with_matches, column] = string_to_match\n",
    "    \n",
    "    # let us know the function's done\n",
    "    print(\"All done!\")\n",
    "    \n",
    "replace_matches_in_column(df=professors, column='Country', string_to_match=\"south korea\")\n",
    "countries = professors['Country'].unique()"
   ]
  },
  {
   "cell_type": "markdown",
   "id": "db941659",
   "metadata": {
    "papermill": {
     "duration": 0.005514,
     "end_time": "2022-07-02T02:15:17.224120",
     "exception": false,
     "start_time": "2022-07-02T02:15:17.218606",
     "status": "completed"
    },
    "tags": []
   },
   "source": [
    "# 1) Examine another column\n",
    "\n",
    "Write code below to take a look at all the unique values in the \"Graduated from\" column."
   ]
  },
  {
   "cell_type": "code",
   "execution_count": 4,
   "id": "ded72688",
   "metadata": {
    "execution": {
     "iopub.execute_input": "2022-07-02T02:15:17.237198Z",
     "iopub.status.busy": "2022-07-02T02:15:17.236793Z",
     "iopub.status.idle": "2022-07-02T02:15:17.241401Z",
     "shell.execute_reply": "2022-07-02T02:15:17.240631Z"
    },
    "papermill": {
     "duration": 0.013641,
     "end_time": "2022-07-02T02:15:17.243404",
     "exception": false,
     "start_time": "2022-07-02T02:15:17.229763",
     "status": "completed"
    },
    "tags": []
   },
   "outputs": [],
   "source": [
    "# TODO: Your code here\n",
    "countries = professors['Graduated from'].unique()\n"
   ]
  },
  {
   "cell_type": "markdown",
   "id": "0b016ad3",
   "metadata": {
    "papermill": {
     "duration": 0.005882,
     "end_time": "2022-07-02T02:15:17.255171",
     "exception": false,
     "start_time": "2022-07-02T02:15:17.249289",
     "status": "completed"
    },
    "tags": []
   },
   "source": [
    "Do you notice any inconsistencies in the data?  Can any of the inconsistencies in the data be fixed by removing white spaces at the beginning and end of cells?\n",
    "\n",
    "Once you have answered these questions, run the code cell below to get credit for your work."
   ]
  },
  {
   "cell_type": "code",
   "execution_count": 5,
   "id": "b5e8a7e0",
   "metadata": {
    "execution": {
     "iopub.execute_input": "2022-07-02T02:15:17.269191Z",
     "iopub.status.busy": "2022-07-02T02:15:17.268390Z",
     "iopub.status.idle": "2022-07-02T02:15:17.280555Z",
     "shell.execute_reply": "2022-07-02T02:15:17.279647Z"
    },
    "papermill": {
     "duration": 0.021666,
     "end_time": "2022-07-02T02:15:17.282745",
     "exception": false,
     "start_time": "2022-07-02T02:15:17.261079",
     "status": "completed"
    },
    "tags": []
   },
   "outputs": [
    {
     "data": {
      "application/javascript": [
       "parent.postMessage({\"jupyterEvent\": \"custom.exercise_interaction\", \"data\": {\"outcomeType\": 1, \"valueTowardsCompletion\": 0.3333333333333333, \"interactionType\": 1, \"questionType\": 4, \"questionId\": \"1_ExamineProvince\", \"learnToolsVersion\": \"0.3.4\", \"failureMessage\": \"\", \"exceptionClass\": \"\", \"trace\": \"\"}}, \"*\")"
      ],
      "text/plain": [
       "<IPython.core.display.Javascript object>"
      ]
     },
     "metadata": {},
     "output_type": "display_data"
    },
    {
     "data": {
      "text/markdown": [
       "<span style=\"color:#33cc33\">Correct:</span> \n",
       "\n",
       "There are inconsistencies that can be fixed by removing white spaces at the beginning and end of cells.  For instance, \"University of Central Florida\" and \" University of Central Florida\" both appear in the column."
      ],
      "text/plain": [
       "Correct: \n",
       "\n",
       "There are inconsistencies that can be fixed by removing white spaces at the beginning and end of cells.  For instance, \"University of Central Florida\" and \" University of Central Florida\" both appear in the column."
      ]
     },
     "metadata": {},
     "output_type": "display_data"
    }
   ],
   "source": [
    "# Check your answer (Run this code cell to receive credit!)\n",
    "q1.check()"
   ]
  },
  {
   "cell_type": "code",
   "execution_count": 6,
   "id": "6773a9c6",
   "metadata": {
    "execution": {
     "iopub.execute_input": "2022-07-02T02:15:17.298130Z",
     "iopub.status.busy": "2022-07-02T02:15:17.297071Z",
     "iopub.status.idle": "2022-07-02T02:15:17.301429Z",
     "shell.execute_reply": "2022-07-02T02:15:17.300536Z"
    },
    "papermill": {
     "duration": 0.014237,
     "end_time": "2022-07-02T02:15:17.303461",
     "exception": false,
     "start_time": "2022-07-02T02:15:17.289224",
     "status": "completed"
    },
    "tags": []
   },
   "outputs": [],
   "source": [
    "# Line below will give you a hint\n",
    "#q1.hint()"
   ]
  },
  {
   "cell_type": "markdown",
   "id": "b380e4b5",
   "metadata": {
    "papermill": {
     "duration": 0.006067,
     "end_time": "2022-07-02T02:15:17.316379",
     "exception": false,
     "start_time": "2022-07-02T02:15:17.310312",
     "status": "completed"
    },
    "tags": []
   },
   "source": [
    "# 2) Do some text pre-processing\n",
    "\n",
    "Convert every entry in the \"Graduated from\" column in the `professors` DataFrame to remove white spaces at the beginning and end of cells."
   ]
  },
  {
   "cell_type": "code",
   "execution_count": 7,
   "id": "8394062c",
   "metadata": {
    "execution": {
     "iopub.execute_input": "2022-07-02T02:15:17.330957Z",
     "iopub.status.busy": "2022-07-02T02:15:17.330229Z",
     "iopub.status.idle": "2022-07-02T02:15:17.343820Z",
     "shell.execute_reply": "2022-07-02T02:15:17.342686Z"
    },
    "papermill": {
     "duration": 0.023252,
     "end_time": "2022-07-02T02:15:17.345976",
     "exception": false,
     "start_time": "2022-07-02T02:15:17.322724",
     "status": "completed"
    },
    "tags": []
   },
   "outputs": [
    {
     "data": {
      "application/javascript": [
       "parent.postMessage({\"jupyterEvent\": \"custom.exercise_interaction\", \"data\": {\"outcomeType\": 1, \"valueTowardsCompletion\": 0.3333333333333333, \"interactionType\": 1, \"questionType\": 1, \"questionId\": \"2_TextProcessing\", \"learnToolsVersion\": \"0.3.4\", \"failureMessage\": \"\", \"exceptionClass\": \"\", \"trace\": \"\"}}, \"*\")"
      ],
      "text/plain": [
       "<IPython.core.display.Javascript object>"
      ]
     },
     "metadata": {},
     "output_type": "display_data"
    },
    {
     "data": {
      "text/markdown": [
       "<span style=\"color:#33cc33\">Correct</span>"
      ],
      "text/plain": [
       "Correct"
      ]
     },
     "metadata": {},
     "output_type": "display_data"
    }
   ],
   "source": [
    "# TODO: Your code here\n",
    "____\n",
    "professors['Graduated from'] = professors['Graduated from'].str.strip()\n",
    "\n",
    "\n",
    "# Check your answer\n",
    "q2.check()"
   ]
  },
  {
   "cell_type": "code",
   "execution_count": 8,
   "id": "1a5c5e9a",
   "metadata": {
    "execution": {
     "iopub.execute_input": "2022-07-02T02:15:17.360487Z",
     "iopub.status.busy": "2022-07-02T02:15:17.359799Z",
     "iopub.status.idle": "2022-07-02T02:15:17.364695Z",
     "shell.execute_reply": "2022-07-02T02:15:17.363758Z"
    },
    "papermill": {
     "duration": 0.014573,
     "end_time": "2022-07-02T02:15:17.367014",
     "exception": false,
     "start_time": "2022-07-02T02:15:17.352441",
     "status": "completed"
    },
    "tags": []
   },
   "outputs": [],
   "source": [
    "# Lines below will give you a hint or solution code\n",
    "#q2.hint()\n",
    "#q2.solution()"
   ]
  },
  {
   "cell_type": "markdown",
   "id": "c7523557",
   "metadata": {
    "papermill": {
     "duration": 0.005656,
     "end_time": "2022-07-02T02:15:17.379120",
     "exception": false,
     "start_time": "2022-07-02T02:15:17.373464",
     "status": "completed"
    },
    "tags": []
   },
   "source": [
    "# 3) Continue working with countries\n",
    "\n",
    "In the tutorial, we focused on cleaning up inconsistencies in the \"Country\" column.  Run the code cell below to view the list of unique values that we ended with."
   ]
  },
  {
   "cell_type": "code",
   "execution_count": 9,
   "id": "2a8e9a7a",
   "metadata": {
    "execution": {
     "iopub.execute_input": "2022-07-02T02:15:17.392913Z",
     "iopub.status.busy": "2022-07-02T02:15:17.392458Z",
     "iopub.status.idle": "2022-07-02T02:15:17.399814Z",
     "shell.execute_reply": "2022-07-02T02:15:17.399052Z"
    },
    "papermill": {
     "duration": 0.016815,
     "end_time": "2022-07-02T02:15:17.401926",
     "exception": false,
     "start_time": "2022-07-02T02:15:17.385111",
     "status": "completed"
    },
    "tags": []
   },
   "outputs": [
    {
     "data": {
      "text/plain": [
       "array(['australia', 'austria', 'canada', 'china', 'finland', 'france',\n",
       "       'germany', 'greece', 'hongkong', 'ireland', 'italy', 'japan',\n",
       "       'macau', 'malaysia', 'mauritius', 'netherland', 'new zealand',\n",
       "       'norway', 'pakistan', 'portugal', 'russian federation',\n",
       "       'saudi arabia', 'scotland', 'singapore', 'south korea', 'spain',\n",
       "       'sweden', 'thailand', 'turkey', 'uk', 'urbana', 'usa', 'usofa'],\n",
       "      dtype=object)"
      ]
     },
     "execution_count": 9,
     "metadata": {},
     "output_type": "execute_result"
    }
   ],
   "source": [
    "# get all the unique values in the 'City' column\n",
    "countries = professors['Country'].unique()\n",
    "\n",
    "# sort them alphabetically and then take a closer look\n",
    "countries.sort()\n",
    "countries"
   ]
  },
  {
   "cell_type": "markdown",
   "id": "321927bd",
   "metadata": {
    "papermill": {
     "duration": 0.00591,
     "end_time": "2022-07-02T02:15:17.414081",
     "exception": false,
     "start_time": "2022-07-02T02:15:17.408171",
     "status": "completed"
    },
    "tags": []
   },
   "source": [
    "Take another look at the \"Country\" column and see if there's any more data cleaning we need to do.\n",
    "\n",
    "It looks like 'usa' and 'usofa' should be the same country.  Correct the \"Country\" column in the dataframe to replace 'usofa' with 'usa'.\n",
    "\n",
    "**Use the most recent version of the DataFrame (with the whitespaces at the beginning and end of cells removed) from question 2.**"
   ]
  },
  {
   "cell_type": "code",
   "execution_count": 10,
   "id": "eef5b36b",
   "metadata": {
    "execution": {
     "iopub.execute_input": "2022-07-02T02:15:17.429198Z",
     "iopub.status.busy": "2022-07-02T02:15:17.428458Z",
     "iopub.status.idle": "2022-07-02T02:15:17.442180Z",
     "shell.execute_reply": "2022-07-02T02:15:17.440682Z"
    },
    "papermill": {
     "duration": 0.024161,
     "end_time": "2022-07-02T02:15:17.444310",
     "exception": false,
     "start_time": "2022-07-02T02:15:17.420149",
     "status": "completed"
    },
    "tags": []
   },
   "outputs": [
    {
     "name": "stdout",
     "output_type": "stream",
     "text": [
      "All done!\n"
     ]
    },
    {
     "data": {
      "application/javascript": [
       "parent.postMessage({\"jupyterEvent\": \"custom.exercise_interaction\", \"data\": {\"outcomeType\": 1, \"valueTowardsCompletion\": 0.3333333333333333, \"interactionType\": 1, \"questionType\": 1, \"questionId\": \"3_WorkingWithCities\", \"learnToolsVersion\": \"0.3.4\", \"failureMessage\": \"\", \"exceptionClass\": \"\", \"trace\": \"\"}}, \"*\")"
      ],
      "text/plain": [
       "<IPython.core.display.Javascript object>"
      ]
     },
     "metadata": {},
     "output_type": "display_data"
    },
    {
     "data": {
      "text/markdown": [
       "<span style=\"color:#33cc33\">Correct</span>"
      ],
      "text/plain": [
       "Correct"
      ]
     },
     "metadata": {},
     "output_type": "display_data"
    }
   ],
   "source": [
    "# TODO: Your code here!\n",
    "____\n",
    "\n",
    "\n",
    "matches = fuzzywuzzy.process.extract(\"usa\", countries, limit=10, scorer=fuzzywuzzy.fuzz.token_sort_ratio)\n",
    "replace_matches_in_column(df=professors, column='Country', string_to_match=\"usa\", min_ratio=70)\n",
    "# Check your answer\n",
    "q3.check()"
   ]
  },
  {
   "cell_type": "code",
   "execution_count": 11,
   "id": "fcaf691b",
   "metadata": {
    "execution": {
     "iopub.execute_input": "2022-07-02T02:15:17.459549Z",
     "iopub.status.busy": "2022-07-02T02:15:17.459141Z",
     "iopub.status.idle": "2022-07-02T02:15:17.463231Z",
     "shell.execute_reply": "2022-07-02T02:15:17.462165Z"
    },
    "papermill": {
     "duration": 0.014691,
     "end_time": "2022-07-02T02:15:17.465534",
     "exception": false,
     "start_time": "2022-07-02T02:15:17.450843",
     "status": "completed"
    },
    "tags": []
   },
   "outputs": [],
   "source": [
    "# Lines below will give you a hint or solution code\n",
    "#q3.hint()\n",
    "#q3.solution()"
   ]
  },
  {
   "cell_type": "markdown",
   "id": "8d473c6c",
   "metadata": {
    "papermill": {
     "duration": 0.006849,
     "end_time": "2022-07-02T02:15:17.479402",
     "exception": false,
     "start_time": "2022-07-02T02:15:17.472553",
     "status": "completed"
    },
    "tags": []
   },
   "source": [
    "# Congratulations!\n",
    "\n",
    "Congratulations for completing the **Data Cleaning** course on Kaggle Learn!\n",
    "\n",
    "To practice your new skills, you're encouraged to download and investigate some of [Kaggle's Datasets](https://www.kaggle.com/datasets)."
   ]
  },
  {
   "cell_type": "markdown",
   "id": "fc64f315",
   "metadata": {
    "papermill": {
     "duration": 0.006826,
     "end_time": "2022-07-02T02:15:17.493285",
     "exception": false,
     "start_time": "2022-07-02T02:15:17.486459",
     "status": "completed"
    },
    "tags": []
   },
   "source": [
    "---\n",
    "\n",
    "\n",
    "\n",
    "\n",
    "*Have questions or comments? Visit the [course discussion forum](https://www.kaggle.com/learn/data-cleaning/discussion) to chat with other learners.*"
   ]
  }
 ],
 "metadata": {
  "kernelspec": {
   "display_name": "Python 3",
   "language": "python",
   "name": "python3"
  },
  "language_info": {
   "codemirror_mode": {
    "name": "ipython",
    "version": 3
   },
   "file_extension": ".py",
   "mimetype": "text/x-python",
   "name": "python",
   "nbconvert_exporter": "python",
   "pygments_lexer": "ipython3",
   "version": "3.7.12"
  },
  "papermill": {
   "default_parameters": {},
   "duration": 11.299876,
   "end_time": "2022-07-02T02:15:18.121936",
   "environment_variables": {},
   "exception": null,
   "input_path": "__notebook__.ipynb",
   "output_path": "__notebook__.ipynb",
   "parameters": {},
   "start_time": "2022-07-02T02:15:06.822060",
   "version": "2.3.4"
  }
 },
 "nbformat": 4,
 "nbformat_minor": 5
}
