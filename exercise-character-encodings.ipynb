{
 "cells": [
  {
   "cell_type": "markdown",
   "id": "9313f401",
   "metadata": {
    "papermill": {
     "duration": 0.00497,
     "end_time": "2022-07-02T02:14:55.751834",
     "exception": false,
     "start_time": "2022-07-02T02:14:55.746864",
     "status": "completed"
    },
    "tags": []
   },
   "source": [
    "**This notebook is an exercise in the [Data Cleaning](https://www.kaggle.com/learn/data-cleaning) course.  You can reference the tutorial at [this link](https://www.kaggle.com/alexisbcook/character-encodings).**\n",
    "\n",
    "---\n"
   ]
  },
  {
   "cell_type": "markdown",
   "id": "24eff94c",
   "metadata": {
    "papermill": {
     "duration": 0.003747,
     "end_time": "2022-07-02T02:14:55.759993",
     "exception": false,
     "start_time": "2022-07-02T02:14:55.756246",
     "status": "completed"
    },
    "tags": []
   },
   "source": [
    "In this exercise, you'll apply what you learned in the **Character encodings** tutorial.\n",
    "\n",
    "# Setup\n",
    "\n",
    "The questions below will give you feedback on your work. Run the following cell to set up the feedback system."
   ]
  },
  {
   "cell_type": "code",
   "execution_count": 1,
   "id": "213fb958",
   "metadata": {
    "execution": {
     "iopub.execute_input": "2022-07-02T02:14:55.770275Z",
     "iopub.status.busy": "2022-07-02T02:14:55.769556Z",
     "iopub.status.idle": "2022-07-02T02:14:55.868730Z",
     "shell.execute_reply": "2022-07-02T02:14:55.867235Z"
    },
    "papermill": {
     "duration": 0.107138,
     "end_time": "2022-07-02T02:14:55.871273",
     "exception": false,
     "start_time": "2022-07-02T02:14:55.764135",
     "status": "completed"
    },
    "tags": []
   },
   "outputs": [
    {
     "name": "stdout",
     "output_type": "stream",
     "text": [
      "Setup Complete\n"
     ]
    }
   ],
   "source": [
    "from learntools.core import binder\n",
    "binder.bind(globals())\n",
    "from learntools.data_cleaning.ex4 import *\n",
    "print(\"Setup Complete\")"
   ]
  },
  {
   "cell_type": "markdown",
   "id": "d50412c5",
   "metadata": {
    "papermill": {
     "duration": 0.003895,
     "end_time": "2022-07-02T02:14:55.879791",
     "exception": false,
     "start_time": "2022-07-02T02:14:55.875896",
     "status": "completed"
    },
    "tags": []
   },
   "source": [
    "# Get our environment set up\n",
    "\n",
    "The first thing we'll need to do is load in the libraries we'll be using."
   ]
  },
  {
   "cell_type": "code",
   "execution_count": 2,
   "id": "6e924ae1",
   "metadata": {
    "execution": {
     "iopub.execute_input": "2022-07-02T02:14:55.889423Z",
     "iopub.status.busy": "2022-07-02T02:14:55.889028Z",
     "iopub.status.idle": "2022-07-02T02:14:55.894628Z",
     "shell.execute_reply": "2022-07-02T02:14:55.893395Z"
    },
    "papermill": {
     "duration": 0.013311,
     "end_time": "2022-07-02T02:14:55.897086",
     "exception": false,
     "start_time": "2022-07-02T02:14:55.883775",
     "status": "completed"
    },
    "tags": []
   },
   "outputs": [],
   "source": [
    "# modules we'll use\n",
    "import pandas as pd\n",
    "import numpy as np\n",
    "\n",
    "# helpful character encoding module\n",
    "import chardet\n",
    "\n",
    "# set seed for reproducibility\n",
    "np.random.seed(0)"
   ]
  },
  {
   "cell_type": "markdown",
   "id": "2792239f",
   "metadata": {
    "papermill": {
     "duration": 0.003959,
     "end_time": "2022-07-02T02:14:55.905260",
     "exception": false,
     "start_time": "2022-07-02T02:14:55.901301",
     "status": "completed"
    },
    "tags": []
   },
   "source": [
    "# 1) What are encodings?\n",
    "\n",
    "You're working with a dataset composed of bytes.  Run the code cell below to print a sample entry."
   ]
  },
  {
   "cell_type": "code",
   "execution_count": 3,
   "id": "5d3d3aa9",
   "metadata": {
    "execution": {
     "iopub.execute_input": "2022-07-02T02:14:55.915872Z",
     "iopub.status.busy": "2022-07-02T02:14:55.915426Z",
     "iopub.status.idle": "2022-07-02T02:14:55.922241Z",
     "shell.execute_reply": "2022-07-02T02:14:55.920704Z"
    },
    "papermill": {
     "duration": 0.016236,
     "end_time": "2022-07-02T02:14:55.925833",
     "exception": false,
     "start_time": "2022-07-02T02:14:55.909597",
     "status": "completed"
    },
    "tags": []
   },
   "outputs": [
    {
     "name": "stdout",
     "output_type": "stream",
     "text": [
      "b'\\xa7A\\xa6n'\n",
      "data type: <class 'bytes'>\n"
     ]
    }
   ],
   "source": [
    "sample_entry = b'\\xa7A\\xa6n'\n",
    "print(sample_entry)\n",
    "print('data type:', type(sample_entry))"
   ]
  },
  {
   "cell_type": "markdown",
   "id": "6b845bb9",
   "metadata": {
    "papermill": {
     "duration": 0.004564,
     "end_time": "2022-07-02T02:14:55.935536",
     "exception": false,
     "start_time": "2022-07-02T02:14:55.930972",
     "status": "completed"
    },
    "tags": []
   },
   "source": [
    "You notice that it doesn't use the standard UTF-8 encoding. \n",
    "\n",
    "Use the next code cell to create a variable `new_entry` that changes the encoding from `\"big5-tw\"` to `\"utf-8\"`.  `new_entry` should have the bytes datatype."
   ]
  },
  {
   "cell_type": "code",
   "execution_count": 4,
   "id": "7db3aa83",
   "metadata": {
    "execution": {
     "iopub.execute_input": "2022-07-02T02:14:55.946501Z",
     "iopub.status.busy": "2022-07-02T02:14:55.946112Z",
     "iopub.status.idle": "2022-07-02T02:14:55.959056Z",
     "shell.execute_reply": "2022-07-02T02:14:55.958168Z"
    },
    "papermill": {
     "duration": 0.02127,
     "end_time": "2022-07-02T02:14:55.961269",
     "exception": false,
     "start_time": "2022-07-02T02:14:55.939999",
     "status": "completed"
    },
    "tags": []
   },
   "outputs": [
    {
     "data": {
      "application/javascript": [
       "parent.postMessage({\"jupyterEvent\": \"custom.exercise_interaction\", \"data\": {\"outcomeType\": 1, \"valueTowardsCompletion\": 0.3333333333333333, \"interactionType\": 1, \"questionType\": 1, \"questionId\": \"1_EncodingsIntro\", \"learnToolsVersion\": \"0.3.4\", \"failureMessage\": \"\", \"exceptionClass\": \"\", \"trace\": \"\"}}, \"*\")"
      ],
      "text/plain": [
       "<IPython.core.display.Javascript object>"
      ]
     },
     "metadata": {},
     "output_type": "display_data"
    },
    {
     "data": {
      "text/markdown": [
       "<span style=\"color:#33cc33\">Correct</span>"
      ],
      "text/plain": [
       "Correct"
      ]
     },
     "metadata": {},
     "output_type": "display_data"
    }
   ],
   "source": [
    "before = sample_entry.decode(\"big5-tw\")\n",
    "new_entry = before.encode()\n",
    "\n",
    "\n",
    "# Check your answer\n",
    "q1.check()"
   ]
  },
  {
   "cell_type": "code",
   "execution_count": 5,
   "id": "9ddbb9e8",
   "metadata": {
    "execution": {
     "iopub.execute_input": "2022-07-02T02:14:55.972599Z",
     "iopub.status.busy": "2022-07-02T02:14:55.971727Z",
     "iopub.status.idle": "2022-07-02T02:14:55.976924Z",
     "shell.execute_reply": "2022-07-02T02:14:55.975989Z"
    },
    "papermill": {
     "duration": 0.013598,
     "end_time": "2022-07-02T02:14:55.979380",
     "exception": false,
     "start_time": "2022-07-02T02:14:55.965782",
     "status": "completed"
    },
    "tags": []
   },
   "outputs": [],
   "source": [
    "# Lines below will give you a hint or solution code\n",
    "#q1.hint()\n",
    "#q1.solution()"
   ]
  },
  {
   "cell_type": "markdown",
   "id": "0c499e8c",
   "metadata": {
    "papermill": {
     "duration": 0.004406,
     "end_time": "2022-07-02T02:14:55.988516",
     "exception": false,
     "start_time": "2022-07-02T02:14:55.984110",
     "status": "completed"
    },
    "tags": []
   },
   "source": [
    "# 2) Reading in files with encoding problems\n",
    "\n",
    "Use the code cell below to read in this file at path `\"../input/fatal-police-shootings-in-the-us/PoliceKillingsUS.csv\"`.  \n",
    "\n",
    "Figure out what the correct encoding should be and read in the file to a DataFrame `police_killings`."
   ]
  },
  {
   "cell_type": "code",
   "execution_count": 6,
   "id": "53d4a341",
   "metadata": {
    "execution": {
     "iopub.execute_input": "2022-07-02T02:14:56.000263Z",
     "iopub.status.busy": "2022-07-02T02:14:55.999417Z",
     "iopub.status.idle": "2022-07-02T02:14:56.025836Z",
     "shell.execute_reply": "2022-07-02T02:14:56.024661Z"
    },
    "papermill": {
     "duration": 0.034661,
     "end_time": "2022-07-02T02:14:56.028027",
     "exception": false,
     "start_time": "2022-07-02T02:14:55.993366",
     "status": "completed"
    },
    "tags": []
   },
   "outputs": [
    {
     "data": {
      "application/javascript": [
       "parent.postMessage({\"jupyterEvent\": \"custom.exercise_interaction\", \"data\": {\"outcomeType\": 1, \"valueTowardsCompletion\": 0.3333333333333333, \"interactionType\": 1, \"questionType\": 1, \"questionId\": \"2_ReadIn\", \"learnToolsVersion\": \"0.3.4\", \"failureMessage\": \"\", \"exceptionClass\": \"\", \"trace\": \"\"}}, \"*\")"
      ],
      "text/plain": [
       "<IPython.core.display.Javascript object>"
      ]
     },
     "metadata": {},
     "output_type": "display_data"
    },
    {
     "data": {
      "text/markdown": [
       "<span style=\"color:#33cc33\">Correct</span>"
      ],
      "text/plain": [
       "Correct"
      ]
     },
     "metadata": {},
     "output_type": "display_data"
    }
   ],
   "source": [
    "# TODO: Load in the DataFrame correctly.\n",
    "police_killings = pd.read_csv(\"../input/fatal-police-shootings-in-the-us/PoliceKillingsUS.csv\", encoding='Windows-1252')\n",
    "\n",
    "# Check your answer\n",
    "q2.check()"
   ]
  },
  {
   "cell_type": "markdown",
   "id": "f6478864",
   "metadata": {
    "papermill": {
     "duration": 0.004197,
     "end_time": "2022-07-02T02:14:56.036614",
     "exception": false,
     "start_time": "2022-07-02T02:14:56.032417",
     "status": "completed"
    },
    "tags": []
   },
   "source": [
    "Feel free to use any additional code cells for supplemental work.  To get credit for finishing this question, you'll need to run `q2.check()` and get a result of **Correct**."
   ]
  },
  {
   "cell_type": "code",
   "execution_count": 7,
   "id": "fbfcc4a5",
   "metadata": {
    "execution": {
     "iopub.execute_input": "2022-07-02T02:14:56.047655Z",
     "iopub.status.busy": "2022-07-02T02:14:56.046862Z",
     "iopub.status.idle": "2022-07-02T02:14:56.052052Z",
     "shell.execute_reply": "2022-07-02T02:14:56.050841Z"
    },
    "papermill": {
     "duration": 0.013343,
     "end_time": "2022-07-02T02:14:56.054388",
     "exception": false,
     "start_time": "2022-07-02T02:14:56.041045",
     "status": "completed"
    },
    "tags": []
   },
   "outputs": [],
   "source": [
    "# (Optional) Use this code cell for any additional work.\n"
   ]
  },
  {
   "cell_type": "code",
   "execution_count": 8,
   "id": "74257ec7",
   "metadata": {
    "execution": {
     "iopub.execute_input": "2022-07-02T02:14:56.065807Z",
     "iopub.status.busy": "2022-07-02T02:14:56.065127Z",
     "iopub.status.idle": "2022-07-02T02:14:56.069095Z",
     "shell.execute_reply": "2022-07-02T02:14:56.068040Z"
    },
    "papermill": {
     "duration": 0.012143,
     "end_time": "2022-07-02T02:14:56.071404",
     "exception": false,
     "start_time": "2022-07-02T02:14:56.059261",
     "status": "completed"
    },
    "tags": []
   },
   "outputs": [],
   "source": [
    "# Lines below will give you a hint or solution code\n",
    "#q2.hint()\n",
    "#q2.solution()"
   ]
  },
  {
   "cell_type": "markdown",
   "id": "26533bce",
   "metadata": {
    "papermill": {
     "duration": 0.004152,
     "end_time": "2022-07-02T02:14:56.080115",
     "exception": false,
     "start_time": "2022-07-02T02:14:56.075963",
     "status": "completed"
    },
    "tags": []
   },
   "source": [
    "# 3) Saving your files with UTF-8 encoding\n",
    "\n",
    "Save a version of the police killings dataset to CSV with UTF-8 encoding.  Your answer will be marked correct after saving this file.  \n",
    "\n",
    "Note: When using the `to_csv()` method, supply only the name of the file (e.g., `\"my_file.csv\"`).  This saves the file at the filepath `\"/kaggle/working/my_file.csv\"`."
   ]
  },
  {
   "cell_type": "code",
   "execution_count": 9,
   "id": "bf8f56bd",
   "metadata": {
    "execution": {
     "iopub.execute_input": "2022-07-02T02:14:56.090788Z",
     "iopub.status.busy": "2022-07-02T02:14:56.090378Z",
     "iopub.status.idle": "2022-07-02T02:14:56.123546Z",
     "shell.execute_reply": "2022-07-02T02:14:56.122770Z"
    },
    "papermill": {
     "duration": 0.041009,
     "end_time": "2022-07-02T02:14:56.125667",
     "exception": false,
     "start_time": "2022-07-02T02:14:56.084658",
     "status": "completed"
    },
    "tags": []
   },
   "outputs": [
    {
     "data": {
      "application/javascript": [
       "parent.postMessage({\"jupyterEvent\": \"custom.exercise_interaction\", \"data\": {\"outcomeType\": 1, \"valueTowardsCompletion\": 0.3333333333333333, \"interactionType\": 1, \"questionType\": 2, \"questionId\": \"3_SaveCSV\", \"learnToolsVersion\": \"0.3.4\", \"failureMessage\": \"\", \"exceptionClass\": \"\", \"trace\": \"\"}}, \"*\")"
      ],
      "text/plain": [
       "<IPython.core.display.Javascript object>"
      ]
     },
     "metadata": {},
     "output_type": "display_data"
    },
    {
     "data": {
      "text/markdown": [
       "<span style=\"color:#33cc33\">Correct</span>"
      ],
      "text/plain": [
       "Correct"
      ]
     },
     "metadata": {},
     "output_type": "display_data"
    }
   ],
   "source": [
    "# TODO: Save the police killings dataset to CSV\n",
    "\n",
    "____\n",
    "police_killings.to_csv(\"my_file-utf8.csv\")\n",
    "\n",
    "# Check your answer\n",
    "q3.check()"
   ]
  },
  {
   "cell_type": "code",
   "execution_count": 10,
   "id": "8a98df97",
   "metadata": {
    "execution": {
     "iopub.execute_input": "2022-07-02T02:14:56.137664Z",
     "iopub.status.busy": "2022-07-02T02:14:56.137248Z",
     "iopub.status.idle": "2022-07-02T02:14:56.141885Z",
     "shell.execute_reply": "2022-07-02T02:14:56.140664Z"
    },
    "papermill": {
     "duration": 0.013255,
     "end_time": "2022-07-02T02:14:56.144196",
     "exception": false,
     "start_time": "2022-07-02T02:14:56.130941",
     "status": "completed"
    },
    "tags": []
   },
   "outputs": [],
   "source": [
    "# Lines below will give you a hint or solution code\n",
    "#q3.hint()\n",
    "#q3.solution()"
   ]
  },
  {
   "cell_type": "markdown",
   "id": "e3e6a322",
   "metadata": {
    "papermill": {
     "duration": 0.004612,
     "end_time": "2022-07-02T02:14:56.153632",
     "exception": false,
     "start_time": "2022-07-02T02:14:56.149020",
     "status": "completed"
    },
    "tags": []
   },
   "source": [
    "# (Optional) More practice\n",
    "\n",
    "Check out [this dataset of files in different character encodings](https://www.kaggle.com/rtatman/character-encoding-examples). Can you read in all the files with their original encodings and them save them out as UTF-8 files?\n",
    "\n",
    "If you have a file that's in UTF-8 but has just a couple of weird-looking characters in it, you can try out the [ftfy module](https://ftfy.readthedocs.io/en/latest/#) and see if it helps. \n",
    "\n",
    "# Keep going\n",
    "\n",
    "In the final lesson, learn how to [**clean up inconsistent text entries**](https://www.kaggle.com/alexisbcook/inconsistent-data-entry) in your dataset."
   ]
  },
  {
   "cell_type": "markdown",
   "id": "46b4e0d2",
   "metadata": {
    "papermill": {
     "duration": 0.004474,
     "end_time": "2022-07-02T02:14:56.162940",
     "exception": false,
     "start_time": "2022-07-02T02:14:56.158466",
     "status": "completed"
    },
    "tags": []
   },
   "source": [
    "---\n",
    "\n",
    "\n",
    "\n",
    "\n",
    "*Have questions or comments? Visit the [course discussion forum](https://www.kaggle.com/learn/data-cleaning/discussion) to chat with other learners.*"
   ]
  }
 ],
 "metadata": {
  "kernelspec": {
   "display_name": "Python 3",
   "language": "python",
   "name": "python3"
  },
  "language_info": {
   "codemirror_mode": {
    "name": "ipython",
    "version": 3
   },
   "file_extension": ".py",
   "mimetype": "text/x-python",
   "name": "python",
   "nbconvert_exporter": "python",
   "pygments_lexer": "ipython3",
   "version": "3.7.12"
  },
  "papermill": {
   "default_parameters": {},
   "duration": 10.223213,
   "end_time": "2022-07-02T02:14:56.789164",
   "environment_variables": {},
   "exception": null,
   "input_path": "__notebook__.ipynb",
   "output_path": "__notebook__.ipynb",
   "parameters": {},
   "start_time": "2022-07-02T02:14:46.565951",
   "version": "2.3.4"
  }
 },
 "nbformat": 4,
 "nbformat_minor": 5
}
